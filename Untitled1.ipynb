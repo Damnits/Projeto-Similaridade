{
 "cells": [
  {
   "cell_type": "code",
   "execution_count": 9,
   "metadata": {},
   "outputs": [],
   "source": [
    "import pandas as pd\n",
    "import csv\n",
    "\n",
    "#abrimos o arquivo e organizamos ele em uma tabela no panda dataframe\n",
    "arquivo = pd.read_csv('curriculos-lattes.csv', encoding='UTF8')\n",
    "#excluimos as colunas que não vamos utilizar\n",
    "arquivo = arquivo.drop(columns = ['_id', 'data_atualizacao'])\n",
    "#aqui trocamos os valores de sim e não para True e false fazendo com que o dataframe ficasse mais facil de trabalhar\n",
    "arquivo = arquivo.replace('SIM', True)\n",
    "arquivo = arquivo.replace('NAO', False)\n",
    "arquivo = arquivo = arquivo.replace('----', '')\n",
    "#aqui eu transformei num array para que eu pudesse colocar mais facilmente dentro do objeto criado\n",
    "\n"
   ]
  },
  {
   "cell_type": "code",
   "execution_count": 12,
   "metadata": {
    "scrolled": true
   },
   "outputs": [
    {
     "name": "stdout",
     "output_type": "stream",
     "text": [
      "                                  nome  graduacao  \\\n",
      "0                   Emerson Costa Cruz       True   \n",
      "1            Adelson Lourenço da Silva       True   \n",
      "2          Luis Antonio Lopes da Silva       True   \n",
      "3          Vania Ruth Pereira da Silva       True   \n",
      "4         Maria Tatiane de Souza Brito       True   \n",
      "...                                ...        ...   \n",
      "1624        Alexsandra Cristina Chaves       True   \n",
      "1625             Cleomar Porto Bezerra       True   \n",
      "1626      Rostand Edson Oliveira Costa       True   \n",
      "1627       Luiz Mauricio Fraga Martins       True   \n",
      "1628  Francisco Petrônio Lima Nogueira       True   \n",
      "\n",
      "                                         area_graduacao  especializacao  \\\n",
      "0                                 Ciência da Computação           False   \n",
      "1                     [\"Administração\",\"Administração\"]           False   \n",
      "2     [\"Filosofia (Ufpe-Ufpb-Ufrn)\",\"Geografia (Lice...           False   \n",
      "3          [\"Serviço Social\",\"Administração\",\"Direito\"]            True   \n",
      "4                                 Redes de Computadores            True   \n",
      "...                                                 ...             ...   \n",
      "1624                              [\"Química\",\"Quimica\"]           False   \n",
      "1625                Licenciatura em Ciencias Biologicas            True   \n",
      "1626              Bacharelado em Ciências da Computação            True   \n",
      "1627                Tecnologo Em Processamento de Dados            True   \n",
      "1628              [\"Arquitetura e Urbanismo\",\"Direito\"]            True   \n",
      "\n",
      "          area_especializacao  mestrado               area_mestrado  \\\n",
      "0                                 False                               \n",
      "1                                 False                               \n",
      "2                                  True  Filosofia (Ufpe-Ufpb-Ufrn)   \n",
      "3           Gestão de Pessoas     False                               \n",
      "4     Segurança da Informação     False                               \n",
      "...                       ...       ...                         ...   \n",
      "1624                               True                     Química   \n",
      "1625                 Botanica      True         Ciências Biológicas   \n",
      "1626      Engenharia Elétrica      True      Informática [C.Grande]   \n",
      "1627       Gestão Empresarial      True                 Informática   \n",
      "1628        Direito Ambiental     False                               \n",
      "\n",
      "      doutorado                                     area_doutorado  \\\n",
      "0         False                                                      \n",
      "1         False                                                      \n",
      "2         False                                                      \n",
      "3         False                                                      \n",
      "4         False                                                      \n",
      "...         ...                                                ...   \n",
      "1624       True  Programa de Pós-Graduação em Ciência e Engenha...   \n",
      "1625       True                                           Educação   \n",
      "1626       True                              Ciência da Computação   \n",
      "1627       True                Ciências e Tecnologia da Informação   \n",
      "1628      False                                                      \n",
      "\n",
      "      pos_doutorado area_pos_doutorado  \n",
      "0             False                     \n",
      "1             False                     \n",
      "2             False                     \n",
      "3             False                     \n",
      "4             False                     \n",
      "...             ...                ...  \n",
      "1624           True                 []  \n",
      "1625          False                     \n",
      "1626          False                     \n",
      "1627          False                     \n",
      "1628          False                     \n",
      "\n",
      "[1629 rows x 11 columns]\n"
     ]
    }
   ],
   "source": [
    "\n",
    "print(arquivo)"
   ]
  },
  {
   "cell_type": "code",
   "execution_count": 53,
   "metadata": {
    "scrolled": true
   },
   "outputs": [
    {
     "name": "stdout",
     "output_type": "stream",
     "text": [
      "97.72866789441375\n"
     ]
    }
   ],
   "source": [
    "info = [arquivo['nome'].value_counts().count(), arquivo['graduacao'].value_counts(True)*100, arquivo['especializacao'].value_counts(True)*100, arquivo['mestrado'].value_counts(True)*100, arquivo['doutorado'].value_counts(True)*100]\n",
    "print(info[1][True])\n"
   ]
  },
  {
   "cell_type": "code",
   "execution_count": null,
   "metadata": {},
   "outputs": [],
   "source": []
  }
 ],
 "metadata": {
  "kernelspec": {
   "display_name": "Python 3",
   "language": "python",
   "name": "python3"
  },
  "language_info": {
   "codemirror_mode": {
    "name": "ipython",
    "version": 3
   },
   "file_extension": ".py",
   "mimetype": "text/x-python",
   "name": "python",
   "nbconvert_exporter": "python",
   "pygments_lexer": "ipython3",
   "version": "3.7.3"
  }
 },
 "nbformat": 4,
 "nbformat_minor": 2
}
