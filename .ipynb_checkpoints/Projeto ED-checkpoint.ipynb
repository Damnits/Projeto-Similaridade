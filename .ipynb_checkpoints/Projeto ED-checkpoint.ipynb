{
 "cells": [
  {
   "cell_type": "code",
   "execution_count": 6,
   "metadata": {},
   "outputs": [],
   "source": [
    "import pandas as pd\n",
    "import csv\n",
    "ler = pd.read_csv('curriculos-lattes.csv', encoding='UTF8')\n",
    "ler = ler.drop(columns = ['_id', 'data_atualizacao'])\n"
   ]
  },
  {
   "cell_type": "code",
   "execution_count": 7,
   "metadata": {},
   "outputs": [
    {
     "name": "stdout",
     "output_type": "stream",
     "text": [
      "                                  nome graduacao  \\\n",
      "0                   Emerson Costa Cruz       SIM   \n",
      "1            Adelson Lourenço da Silva       SIM   \n",
      "2          Luis Antonio Lopes da Silva       SIM   \n",
      "3          Vania Ruth Pereira da Silva       SIM   \n",
      "4         Maria Tatiane de Souza Brito       SIM   \n",
      "...                                ...       ...   \n",
      "1624        Alexsandra Cristina Chaves       SIM   \n",
      "1625             Cleomar Porto Bezerra       SIM   \n",
      "1626      Rostand Edson Oliveira Costa       SIM   \n",
      "1627       Luiz Mauricio Fraga Martins       SIM   \n",
      "1628  Francisco Petrônio Lima Nogueira       SIM   \n",
      "\n",
      "                                         area_graduacao especializacao  \\\n",
      "0                                 Ciência da Computação            NAO   \n",
      "1                     [\"Administração\",\"Administração\"]            NAO   \n",
      "2     [\"Filosofia (Ufpe-Ufpb-Ufrn)\",\"Geografia (Lice...            NAO   \n",
      "3          [\"Serviço Social\",\"Administração\",\"Direito\"]            SIM   \n",
      "4                                 Redes de Computadores            SIM   \n",
      "...                                                 ...            ...   \n",
      "1624                              [\"Química\",\"Quimica\"]            NAO   \n",
      "1625                Licenciatura em Ciencias Biologicas            SIM   \n",
      "1626              Bacharelado em Ciências da Computação            SIM   \n",
      "1627                Tecnologo Em Processamento de Dados            SIM   \n",
      "1628              [\"Arquitetura e Urbanismo\",\"Direito\"]            SIM   \n",
      "\n",
      "          area_especializacao mestrado               area_mestrado doutorado  \\\n",
      "0                        ----      NAO                        ----       NAO   \n",
      "1                        ----      NAO                        ----       NAO   \n",
      "2                        ----      SIM  Filosofia (Ufpe-Ufpb-Ufrn)       NAO   \n",
      "3           Gestão de Pessoas      NAO                        ----       NAO   \n",
      "4     Segurança da Informação      NAO                        ----       NAO   \n",
      "...                       ...      ...                         ...       ...   \n",
      "1624                     ----      SIM                     Química       SIM   \n",
      "1625                 Botanica      SIM         Ciências Biológicas       SIM   \n",
      "1626      Engenharia Elétrica      SIM      Informática [C.Grande]       SIM   \n",
      "1627       Gestão Empresarial      SIM                 Informática       SIM   \n",
      "1628        Direito Ambiental      NAO                        ----       NAO   \n",
      "\n",
      "                                         area_doutorado pos_doutorado  \\\n",
      "0                                                  ----           NAO   \n",
      "1                                                  ----           NAO   \n",
      "2                                                  ----           NAO   \n",
      "3                                                  ----           NAO   \n",
      "4                                                  ----           NAO   \n",
      "...                                                 ...           ...   \n",
      "1624  Programa de Pós-Graduação em Ciência e Engenha...           SIM   \n",
      "1625                                           Educação           NAO   \n",
      "1626                              Ciência da Computação           NAO   \n",
      "1627                Ciências e Tecnologia da Informação           NAO   \n",
      "1628                                               ----           NAO   \n",
      "\n",
      "     area_pos_doutorado  \n",
      "0                  ----  \n",
      "1                  ----  \n",
      "2                  ----  \n",
      "3                  ----  \n",
      "4                  ----  \n",
      "...                 ...  \n",
      "1624                 []  \n",
      "1625               ----  \n",
      "1626               ----  \n",
      "1627               ----  \n",
      "1628               ----  \n",
      "\n",
      "[1629 rows x 11 columns]\n"
     ]
    }
   ],
   "source": [
    "print(ler)"
   ]
  },
  {
   "cell_type": "code",
   "execution_count": 8,
   "metadata": {},
   "outputs": [],
   "source": [
    "ler = ler.replace('SIM', True)\n",
    "ler = ler.replace('NAO', False)"
   ]
  },
  {
   "cell_type": "code",
   "execution_count": 9,
   "metadata": {},
   "outputs": [
    {
     "name": "stdout",
     "output_type": "stream",
     "text": [
      "                                  nome  graduacao  \\\n",
      "0                   Emerson Costa Cruz       True   \n",
      "1            Adelson Lourenço da Silva       True   \n",
      "2          Luis Antonio Lopes da Silva       True   \n",
      "3          Vania Ruth Pereira da Silva       True   \n",
      "4         Maria Tatiane de Souza Brito       True   \n",
      "...                                ...        ...   \n",
      "1624        Alexsandra Cristina Chaves       True   \n",
      "1625             Cleomar Porto Bezerra       True   \n",
      "1626      Rostand Edson Oliveira Costa       True   \n",
      "1627       Luiz Mauricio Fraga Martins       True   \n",
      "1628  Francisco Petrônio Lima Nogueira       True   \n",
      "\n",
      "                                         area_graduacao  especializacao  \\\n",
      "0                                 Ciência da Computação           False   \n",
      "1                     [\"Administração\",\"Administração\"]           False   \n",
      "2     [\"Filosofia (Ufpe-Ufpb-Ufrn)\",\"Geografia (Lice...           False   \n",
      "3          [\"Serviço Social\",\"Administração\",\"Direito\"]            True   \n",
      "4                                 Redes de Computadores            True   \n",
      "...                                                 ...             ...   \n",
      "1624                              [\"Química\",\"Quimica\"]           False   \n",
      "1625                Licenciatura em Ciencias Biologicas            True   \n",
      "1626              Bacharelado em Ciências da Computação            True   \n",
      "1627                Tecnologo Em Processamento de Dados            True   \n",
      "1628              [\"Arquitetura e Urbanismo\",\"Direito\"]            True   \n",
      "\n",
      "          area_especializacao  mestrado               area_mestrado  \\\n",
      "0                        ----     False                        ----   \n",
      "1                        ----     False                        ----   \n",
      "2                        ----      True  Filosofia (Ufpe-Ufpb-Ufrn)   \n",
      "3           Gestão de Pessoas     False                        ----   \n",
      "4     Segurança da Informação     False                        ----   \n",
      "...                       ...       ...                         ...   \n",
      "1624                     ----      True                     Química   \n",
      "1625                 Botanica      True         Ciências Biológicas   \n",
      "1626      Engenharia Elétrica      True      Informática [C.Grande]   \n",
      "1627       Gestão Empresarial      True                 Informática   \n",
      "1628        Direito Ambiental     False                        ----   \n",
      "\n",
      "      doutorado                                     area_doutorado  \\\n",
      "0         False                                               ----   \n",
      "1         False                                               ----   \n",
      "2         False                                               ----   \n",
      "3         False                                               ----   \n",
      "4         False                                               ----   \n",
      "...         ...                                                ...   \n",
      "1624       True  Programa de Pós-Graduação em Ciência e Engenha...   \n",
      "1625       True                                           Educação   \n",
      "1626       True                              Ciência da Computação   \n",
      "1627       True                Ciências e Tecnologia da Informação   \n",
      "1628      False                                               ----   \n",
      "\n",
      "      pos_doutorado area_pos_doutorado  \n",
      "0             False               ----  \n",
      "1             False               ----  \n",
      "2             False               ----  \n",
      "3             False               ----  \n",
      "4             False               ----  \n",
      "...             ...                ...  \n",
      "1624           True                 []  \n",
      "1625          False               ----  \n",
      "1626          False               ----  \n",
      "1627          False               ----  \n",
      "1628          False               ----  \n",
      "\n",
      "[1629 rows x 11 columns]\n"
     ]
    }
   ],
   "source": [
    "print(ler)"
   ]
  },
  {
   "cell_type": "code",
   "execution_count": 5,
   "metadata": {},
   "outputs": [
    {
     "ename": "NameError",
     "evalue": "name 'ler' is not defined",
     "output_type": "error",
     "traceback": [
      "\u001b[1;31m---------------------------------------------------------------------------\u001b[0m",
      "\u001b[1;31mNameError\u001b[0m                                 Traceback (most recent call last)",
      "\u001b[1;32m<ipython-input-5-5bc72caaa13e>\u001b[0m in \u001b[0;36m<module>\u001b[1;34m\u001b[0m\n\u001b[1;32m----> 1\u001b[1;33m \u001b[0mler\u001b[0m \u001b[1;33m=\u001b[0m \u001b[0mler\u001b[0m\u001b[1;33m.\u001b[0m\u001b[0mreplace\u001b[0m\u001b[1;33m(\u001b[0m\u001b[1;34m'----'\u001b[0m\u001b[1;33m,\u001b[0m \u001b[1;34m''\u001b[0m\u001b[1;33m)\u001b[0m\u001b[1;33m\u001b[0m\u001b[1;33m\u001b[0m\u001b[0m\n\u001b[0m",
      "\u001b[1;31mNameError\u001b[0m: name 'ler' is not defined"
     ]
    }
   ],
   "source": []
  },
  {
   "cell_type": "code",
   "execution_count": 10,
   "metadata": {},
   "outputs": [],
   "source": [
    "ler = ler.replace('----', '')"
   ]
  },
  {
   "cell_type": "code",
   "execution_count": 11,
   "metadata": {},
   "outputs": [
    {
     "name": "stdout",
     "output_type": "stream",
     "text": [
      "                                  nome  graduacao  \\\n",
      "0                   Emerson Costa Cruz       True   \n",
      "1            Adelson Lourenço da Silva       True   \n",
      "2          Luis Antonio Lopes da Silva       True   \n",
      "3          Vania Ruth Pereira da Silva       True   \n",
      "4         Maria Tatiane de Souza Brito       True   \n",
      "...                                ...        ...   \n",
      "1624        Alexsandra Cristina Chaves       True   \n",
      "1625             Cleomar Porto Bezerra       True   \n",
      "1626      Rostand Edson Oliveira Costa       True   \n",
      "1627       Luiz Mauricio Fraga Martins       True   \n",
      "1628  Francisco Petrônio Lima Nogueira       True   \n",
      "\n",
      "                                         area_graduacao  especializacao  \\\n",
      "0                                 Ciência da Computação           False   \n",
      "1                     [\"Administração\",\"Administração\"]           False   \n",
      "2     [\"Filosofia (Ufpe-Ufpb-Ufrn)\",\"Geografia (Lice...           False   \n",
      "3          [\"Serviço Social\",\"Administração\",\"Direito\"]            True   \n",
      "4                                 Redes de Computadores            True   \n",
      "...                                                 ...             ...   \n",
      "1624                              [\"Química\",\"Quimica\"]           False   \n",
      "1625                Licenciatura em Ciencias Biologicas            True   \n",
      "1626              Bacharelado em Ciências da Computação            True   \n",
      "1627                Tecnologo Em Processamento de Dados            True   \n",
      "1628              [\"Arquitetura e Urbanismo\",\"Direito\"]            True   \n",
      "\n",
      "          area_especializacao  mestrado               area_mestrado  \\\n",
      "0                                 False                               \n",
      "1                                 False                               \n",
      "2                                  True  Filosofia (Ufpe-Ufpb-Ufrn)   \n",
      "3           Gestão de Pessoas     False                               \n",
      "4     Segurança da Informação     False                               \n",
      "...                       ...       ...                         ...   \n",
      "1624                               True                     Química   \n",
      "1625                 Botanica      True         Ciências Biológicas   \n",
      "1626      Engenharia Elétrica      True      Informática [C.Grande]   \n",
      "1627       Gestão Empresarial      True                 Informática   \n",
      "1628        Direito Ambiental     False                               \n",
      "\n",
      "      doutorado                                     area_doutorado  \\\n",
      "0         False                                                      \n",
      "1         False                                                      \n",
      "2         False                                                      \n",
      "3         False                                                      \n",
      "4         False                                                      \n",
      "...         ...                                                ...   \n",
      "1624       True  Programa de Pós-Graduação em Ciência e Engenha...   \n",
      "1625       True                                           Educação   \n",
      "1626       True                              Ciência da Computação   \n",
      "1627       True                Ciências e Tecnologia da Informação   \n",
      "1628      False                                                      \n",
      "\n",
      "      pos_doutorado area_pos_doutorado  \n",
      "0             False                     \n",
      "1             False                     \n",
      "2             False                     \n",
      "3             False                     \n",
      "4             False                     \n",
      "...             ...                ...  \n",
      "1624           True                 []  \n",
      "1625          False                     \n",
      "1626          False                     \n",
      "1627          False                     \n",
      "1628          False                     \n",
      "\n",
      "[1629 rows x 11 columns]\n"
     ]
    }
   ],
   "source": [
    "print(ler)"
   ]
  },
  {
   "cell_type": "code",
   "execution_count": 36,
   "metadata": {},
   "outputs": [
    {
     "ename": "TypeError",
     "evalue": "'generator' object is not subscriptable",
     "output_type": "error",
     "traceback": [
      "\u001b[1;31m---------------------------------------------------------------------------\u001b[0m",
      "\u001b[1;31mTypeError\u001b[0m                                 Traceback (most recent call last)",
      "\u001b[1;32m<ipython-input-36-3030b361ab1c>\u001b[0m in \u001b[0;36m<module>\u001b[1;34m\u001b[0m\n\u001b[1;32m----> 1\u001b[1;33m \u001b[0mlinha\u001b[0m \u001b[1;33m=\u001b[0m \u001b[0mler\u001b[0m\u001b[1;33m.\u001b[0m\u001b[0miterrows\u001b[0m\u001b[1;33m(\u001b[0m\u001b[1;33m)\u001b[0m\u001b[1;33m[\u001b[0m\u001b[1;36m1\u001b[0m\u001b[1;33m]\u001b[0m\u001b[1;33m\u001b[0m\u001b[1;33m\u001b[0m\u001b[0m\n\u001b[0m",
      "\u001b[1;31mTypeError\u001b[0m: 'generator' object is not subscriptable"
     ]
    }
   ],
   "source": [
    "linha = ler.iterrows()[1]"
   ]
  },
  {
   "cell_type": "code",
   "execution_count": 33,
   "metadata": {},
   "outputs": [
    {
     "ename": "TypeError",
     "evalue": "'generator' object is not subscriptable",
     "output_type": "error",
     "traceback": [
      "\u001b[1;31m---------------------------------------------------------------------------\u001b[0m",
      "\u001b[1;31mTypeError\u001b[0m                                 Traceback (most recent call last)",
      "\u001b[1;32m<ipython-input-33-40ac4c9d2b68>\u001b[0m in \u001b[0;36m<module>\u001b[1;34m\u001b[0m\n\u001b[1;32m----> 1\u001b[1;33m \u001b[0mprint\u001b[0m\u001b[1;33m(\u001b[0m\u001b[0mlinha\u001b[0m\u001b[1;33m[\u001b[0m\u001b[1;34m'nome'\u001b[0m\u001b[1;33m]\u001b[0m\u001b[1;33m)\u001b[0m\u001b[1;33m\u001b[0m\u001b[1;33m\u001b[0m\u001b[0m\n\u001b[0m",
      "\u001b[1;31mTypeError\u001b[0m: 'generator' object is not subscriptable"
     ]
    }
   ],
   "source": []
  },
  {
   "cell_type": "code",
   "execution_count": 40,
   "metadata": {},
   "outputs": [
    {
     "ename": "IndexError",
     "evalue": "tuple index out of range",
     "output_type": "error",
     "traceback": [
      "\u001b[1;31m---------------------------------------------------------------------------\u001b[0m",
      "\u001b[1;31mIndexError\u001b[0m                                Traceback (most recent call last)",
      "\u001b[1;32m<ipython-input-40-75b9e4700f2a>\u001b[0m in \u001b[0;36m<module>\u001b[1;34m\u001b[0m\n\u001b[1;32m----> 1\u001b[1;33m \u001b[0mlinha\u001b[0m \u001b[1;33m=\u001b[0m \u001b[0mnext\u001b[0m\u001b[1;33m(\u001b[0m\u001b[0mler\u001b[0m\u001b[1;33m.\u001b[0m\u001b[0miterrows\u001b[0m\u001b[1;33m(\u001b[0m\u001b[1;33m)\u001b[0m\u001b[1;33m)\u001b[0m\u001b[1;33m[\u001b[0m\u001b[1;36m2\u001b[0m\u001b[1;33m]\u001b[0m\u001b[1;33m\u001b[0m\u001b[1;33m\u001b[0m\u001b[0m\n\u001b[0m",
      "\u001b[1;31mIndexError\u001b[0m: tuple index out of range"
     ]
    }
   ],
   "source": []
  },
  {
   "cell_type": "code",
   "execution_count": 45,
   "metadata": {},
   "outputs": [
    {
     "data": {
      "text/plain": [
       "array([[0, 'Emerson Costa Cruz', True, ..., '', False, ''],\n",
       "       [1, 'Adelson Lourenço da Silva', True, ..., '', False, ''],\n",
       "       [2, 'Luis Antonio Lopes da Silva', True, ..., '', False, ''],\n",
       "       ...,\n",
       "       [1626, 'Rostand Edson Oliveira Costa', True, ...,\n",
       "        'Ciência da Computação', False, ''],\n",
       "       [1627, 'Luiz Mauricio Fraga Martins', True, ...,\n",
       "        'Ciências e Tecnologia da Informação', False, ''],\n",
       "       [1628, 'Francisco Petrônio Lima Nogueira', True, ..., '', False,\n",
       "        '']], dtype=object)"
      ]
     },
     "execution_count": 45,
     "metadata": {},
     "output_type": "execute_result"
    }
   ],
   "source": [
    "ler.reset_index().values"
   ]
  },
  {
   "cell_type": "code",
   "execution_count": 44,
   "metadata": {},
   "outputs": [
    {
     "name": "stdout",
     "output_type": "stream",
     "text": [
      "Ciência da Computação\n"
     ]
    }
   ],
   "source": [
    "let.reset_index()"
   ]
  },
  {
   "cell_type": "code",
   "execution_count": null,
   "metadata": {},
   "outputs": [],
   "source": []
  }
 ],
 "metadata": {
  "kernelspec": {
   "display_name": "Python 3",
   "language": "python",
   "name": "python3"
  },
  "language_info": {
   "codemirror_mode": {
    "name": "ipython",
    "version": 3
   },
   "file_extension": ".py",
   "mimetype": "text/x-python",
   "name": "python",
   "nbconvert_exporter": "python",
   "pygments_lexer": "ipython3",
   "version": "3.7.3"
  }
 },
 "nbformat": 4,
 "nbformat_minor": 2
}
